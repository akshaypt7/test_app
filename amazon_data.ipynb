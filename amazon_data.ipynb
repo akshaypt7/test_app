{
 "cells": [
  {
   "cell_type": "code",
   "execution_count": 3,
   "metadata": {},
   "outputs": [],
   "source": [
    "import numpy as np\n",
    "import pandas as pd\n",
    "import seaborn as sns\n",
    "import matplotlib.pyplot as plt\n",
    "%matplotlib inline\n",
    "\n",
    "import matplotlib.style as style\n",
    "#style.use('seaborn-poster') #sets the size of the charts\n"
   ]
  },
  {
   "cell_type": "code",
   "execution_count": 4,
   "metadata": {},
   "outputs": [],
   "source": [
    "#total = pd.read_excel('Total_3Months_Updated.xlsx')"
   ]
  },
  {
   "cell_type": "code",
   "execution_count": 5,
   "metadata": {},
   "outputs": [],
   "source": [
    "\n",
    "total = pd.read_excel('MTR_B2C-OCTOBER-2020.xlsx') # The month we need to get the Visualizations\n"
   ]
  },
  {
   "cell_type": "code",
   "execution_count": 6,
   "metadata": {},
   "outputs": [],
   "source": [
    "total.drop(total.loc[:,'Cgst Rate':'Credit Note Date'].columns,axis=1,inplace=True)"
   ]
  },
  {
   "cell_type": "code",
   "execution_count": 7,
   "metadata": {},
   "outputs": [],
   "source": [
    "total.drop(['Shipment Id', 'Hsn/sac', 'Product Tax Code','Bill From City','Bill From Country','Bill From Postal Code','Ship From City','Bill From State',\n",
    "           'Ship From Country','Ship From Postal Code','Ship To Country','Shipment Item Id'],axis=1,inplace=True)"
   ]
  },
  {
   "cell_type": "code",
   "execution_count": 8,
   "metadata": {},
   "outputs": [],
   "source": [
    "df = total # For heatmap calculatons"
   ]
  },
  {
   "cell_type": "code",
   "execution_count": 9,
   "metadata": {},
   "outputs": [
    {
     "data": {
      "text/plain": [
       "Seller Gstin             5\n",
       "Invoice Number         798\n",
       "Invoice Date           798\n",
       "Transaction Type         4\n",
       "Order Id               787\n",
       "Shipment Date          680\n",
       "Order Date             756\n",
       "Quantity                 4\n",
       "Item Description        20\n",
       "Asin                    19\n",
       "Sku                     21\n",
       "Ship From State          6\n",
       "Ship To City           213\n",
       "Ship To State           30\n",
       "Ship To Postal Code    430\n",
       "Invoice Amount          44\n",
       "Tax Exclusive Gross     52\n",
       "Total Tax Amount        52\n",
       "dtype: int64"
      ]
     },
     "execution_count": 9,
     "metadata": {},
     "output_type": "execute_result"
    }
   ],
   "source": [
    "total.nunique()"
   ]
  },
  {
   "cell_type": "code",
   "execution_count": 10,
   "metadata": {
    "scrolled": true
   },
   "outputs": [
    {
     "data": {
      "text/html": [
       "<div>\n",
       "<style scoped>\n",
       "    .dataframe tbody tr th:only-of-type {\n",
       "        vertical-align: middle;\n",
       "    }\n",
       "\n",
       "    .dataframe tbody tr th {\n",
       "        vertical-align: top;\n",
       "    }\n",
       "\n",
       "    .dataframe thead th {\n",
       "        text-align: right;\n",
       "    }\n",
       "</style>\n",
       "<table border=\"1\" class=\"dataframe\">\n",
       "  <thead>\n",
       "    <tr style=\"text-align: right;\">\n",
       "      <th></th>\n",
       "      <th>Seller Gstin</th>\n",
       "      <th>Invoice Number</th>\n",
       "      <th>Invoice Date</th>\n",
       "      <th>Transaction Type</th>\n",
       "      <th>Order Id</th>\n",
       "      <th>Shipment Date</th>\n",
       "      <th>Order Date</th>\n",
       "      <th>Quantity</th>\n",
       "      <th>Item Description</th>\n",
       "      <th>Asin</th>\n",
       "      <th>Sku</th>\n",
       "      <th>Ship From State</th>\n",
       "      <th>Ship To City</th>\n",
       "      <th>Ship To State</th>\n",
       "      <th>Ship To Postal Code</th>\n",
       "      <th>Invoice Amount</th>\n",
       "      <th>Tax Exclusive Gross</th>\n",
       "      <th>Total Tax Amount</th>\n",
       "    </tr>\n",
       "  </thead>\n",
       "  <tbody>\n",
       "    <tr>\n",
       "      <th>0</th>\n",
       "      <td>07CJVPA2317N1ZW</td>\n",
       "      <td>IN-SDEE-65</td>\n",
       "      <td>2020-06-01 00:34:20</td>\n",
       "      <td>Shipment</td>\n",
       "      <td>404-9120829-1726700</td>\n",
       "      <td>2020-06-01 08:01:33</td>\n",
       "      <td>2020-06-01 00:28:42</td>\n",
       "      <td>1</td>\n",
       "      <td>Purifit Washing Machine Filter Protects from H...</td>\n",
       "      <td>B07TM3LRVB</td>\n",
       "      <td>201</td>\n",
       "      <td>Delhi</td>\n",
       "      <td>PUNE</td>\n",
       "      <td>MAHARASHTRA</td>\n",
       "      <td>411006</td>\n",
       "      <td>1185.0</td>\n",
       "      <td>1004.24</td>\n",
       "      <td>180.76</td>\n",
       "    </tr>\n",
       "  </tbody>\n",
       "</table>\n",
       "</div>"
      ],
      "text/plain": [
       "      Seller Gstin Invoice Number        Invoice Date Transaction Type  \\\n",
       "0  07CJVPA2317N1ZW     IN-SDEE-65 2020-06-01 00:34:20         Shipment   \n",
       "\n",
       "              Order Id       Shipment Date          Order Date  Quantity  \\\n",
       "0  404-9120829-1726700 2020-06-01 08:01:33 2020-06-01 00:28:42         1   \n",
       "\n",
       "                                    Item Description        Asin  Sku  \\\n",
       "0  Purifit Washing Machine Filter Protects from H...  B07TM3LRVB  201   \n",
       "\n",
       "  Ship From State Ship To City Ship To State  Ship To Postal Code  \\\n",
       "0           Delhi         PUNE   MAHARASHTRA               411006   \n",
       "\n",
       "   Invoice Amount  Tax Exclusive Gross  Total Tax Amount  \n",
       "0          1185.0              1004.24            180.76  "
      ]
     },
     "execution_count": 10,
     "metadata": {},
     "output_type": "execute_result"
    }
   ],
   "source": [
    "total.head(1)"
   ]
  },
  {
   "cell_type": "markdown",
   "metadata": {},
   "source": [
    "# Number of orders from Each State"
   ]
  },
  {
   "cell_type": "markdown",
   "metadata": {},
   "source": [
    "## Change the Plot title to the Month you are analyzing"
   ]
  },
  {
   "cell_type": "code",
   "execution_count": 28,
   "metadata": {
    "scrolled": false
   },
   "outputs": [
    {
     "data": {
      "text/plain": [
       "[Text(0, 0, 'KARNATAKA'),\n",
       " Text(0, 0, 'MAHARASHTRA'),\n",
       " Text(0, 0, 'TELANGANA'),\n",
       " Text(0, 0, 'UTTAR PRADESH'),\n",
       " Text(0, 0, 'WEST BENGAL'),\n",
       " Text(0, 0, 'TAMIL NADU'),\n",
       " Text(0, 0, 'ANDHRA PRADESH'),\n",
       " Text(0, 0, 'DELHI'),\n",
       " Text(0, 0, 'HARYANA'),\n",
       " Text(0, 0, 'GUJARAT'),\n",
       " Text(0, 0, 'KERALA'),\n",
       " Text(0, 0, 'RAJASTHAN'),\n",
       " Text(0, 0, 'ASSAM'),\n",
       " Text(0, 0, 'MADHYA PRADESH'),\n",
       " Text(0, 0, 'ODISHA'),\n",
       " Text(0, 0, 'TRIPURA'),\n",
       " Text(0, 0, 'BIHAR'),\n",
       " Text(0, 0, 'PUNJAB'),\n",
       " Text(0, 0, 'UTTARAKHAND'),\n",
       " Text(0, 0, 'HIMACHAL PRADESH'),\n",
       " Text(0, 0, 'PUDUCHERRY'),\n",
       " Text(0, 0, 'CHANDIGARH'),\n",
       " Text(0, 0, 'JAMMU   KASHMIR'),\n",
       " Text(0, 0, 'GOA'),\n",
       " Text(0, 0, 'NAGALAND'),\n",
       " Text(0, 0, 'MEGHALAYA')]"
      ]
     },
     "execution_count": 28,
     "metadata": {},
     "output_type": "execute_result"
    },
    {
     "data": {
      "image/png": "[encoded data removed]",
      "text/plain": [
       "<Figure size 720x720 with 1 Axes>"
      ]
     },
     "metadata": {
      "needs_background": "light"
     },
     "output_type": "display_data"
    }
   ],
   "source": [
    "total['Ship To State'] = total['Ship To State'].str.upper() # Making every state lowercase to reduce reduntant states\n",
    "\n",
    "plt.figure(figsize=(10, 10))\n",
    "plt.title('No of orders- June 2020')\n",
    "chart=sns.countplot(x='Ship To State',data=total, order = total['Ship To State'].value_counts().index )\n",
    "chart.set_xticklabels(chart.get_xticklabels(), rotation=90)\n",
    "\n",
    "# This is the Data where we have uppercased the states and then made image of.\n"
   ]
  },
  {
   "cell_type": "markdown",
   "metadata": {},
   "source": [
    "# Total Revenue Per State"
   ]
  },
  {
   "cell_type": "code",
   "execution_count": 12,
   "metadata": {
    "scrolled": false
   },
   "outputs": [
    {
     "data": {
      "text/html": [
       "<div>\n",
       "<style scoped>\n",
       "    .dataframe tbody tr th:only-of-type {\n",
       "        vertical-align: middle;\n",
       "    }\n",
       "\n",
       "    .dataframe tbody tr th {\n",
       "        vertical-align: top;\n",
       "    }\n",
       "\n",
       "    .dataframe thead th {\n",
       "        text-align: right;\n",
       "    }\n",
       "</style>\n",
       "<table border=\"1\" class=\"dataframe\">\n",
       "  <thead>\n",
       "    <tr style=\"text-align: right;\">\n",
       "      <th></th>\n",
       "      <th>Ship To State</th>\n",
       "      <th>Invoice Amount</th>\n",
       "    </tr>\n",
       "  </thead>\n",
       "  <tbody>\n",
       "    <tr>\n",
       "      <th>0</th>\n",
       "      <td>KARNATAKA</td>\n",
       "      <td>303303.0</td>\n",
       "    </tr>\n",
       "    <tr>\n",
       "      <th>1</th>\n",
       "      <td>MAHARASHTRA</td>\n",
       "      <td>104102.0</td>\n",
       "    </tr>\n",
       "    <tr>\n",
       "      <th>2</th>\n",
       "      <td>TELANGANA</td>\n",
       "      <td>96998.0</td>\n",
       "    </tr>\n",
       "    <tr>\n",
       "      <th>3</th>\n",
       "      <td>UTTAR PRADESH</td>\n",
       "      <td>66554.0</td>\n",
       "    </tr>\n",
       "    <tr>\n",
       "      <th>4</th>\n",
       "      <td>DELHI</td>\n",
       "      <td>54340.0</td>\n",
       "    </tr>\n",
       "    <tr>\n",
       "      <th>5</th>\n",
       "      <td>TAMIL NADU</td>\n",
       "      <td>49479.0</td>\n",
       "    </tr>\n",
       "    <tr>\n",
       "      <th>6</th>\n",
       "      <td>ANDHRA PRADESH</td>\n",
       "      <td>43698.0</td>\n",
       "    </tr>\n",
       "    <tr>\n",
       "      <th>7</th>\n",
       "      <td>WEST BENGAL</td>\n",
       "      <td>42609.0</td>\n",
       "    </tr>\n",
       "    <tr>\n",
       "      <th>8</th>\n",
       "      <td>HARYANA</td>\n",
       "      <td>37615.0</td>\n",
       "    </tr>\n",
       "    <tr>\n",
       "      <th>9</th>\n",
       "      <td>KERALA</td>\n",
       "      <td>29409.0</td>\n",
       "    </tr>\n",
       "    <tr>\n",
       "      <th>10</th>\n",
       "      <td>GUJARAT</td>\n",
       "      <td>25862.0</td>\n",
       "    </tr>\n",
       "    <tr>\n",
       "      <th>11</th>\n",
       "      <td>RAJASTHAN</td>\n",
       "      <td>11578.0</td>\n",
       "    </tr>\n",
       "    <tr>\n",
       "      <th>12</th>\n",
       "      <td>ASSAM</td>\n",
       "      <td>7401.0</td>\n",
       "    </tr>\n",
       "    <tr>\n",
       "      <th>13</th>\n",
       "      <td>MADHYA PRADESH</td>\n",
       "      <td>7110.0</td>\n",
       "    </tr>\n",
       "    <tr>\n",
       "      <th>14</th>\n",
       "      <td>TRIPURA</td>\n",
       "      <td>3555.0</td>\n",
       "    </tr>\n",
       "    <tr>\n",
       "      <th>15</th>\n",
       "      <td>PUNJAB</td>\n",
       "      <td>2499.0</td>\n",
       "    </tr>\n",
       "    <tr>\n",
       "      <th>16</th>\n",
       "      <td>UTTARAKHAND</td>\n",
       "      <td>2298.0</td>\n",
       "    </tr>\n",
       "    <tr>\n",
       "      <th>17</th>\n",
       "      <td>ODISHA</td>\n",
       "      <td>2285.0</td>\n",
       "    </tr>\n",
       "    <tr>\n",
       "      <th>18</th>\n",
       "      <td>CHANDIGARH</td>\n",
       "      <td>1995.0</td>\n",
       "    </tr>\n",
       "    <tr>\n",
       "      <th>19</th>\n",
       "      <td>BIHAR</td>\n",
       "      <td>1385.0</td>\n",
       "    </tr>\n",
       "    <tr>\n",
       "      <th>20</th>\n",
       "      <td>HIMACHAL PRADESH</td>\n",
       "      <td>1185.0</td>\n",
       "    </tr>\n",
       "    <tr>\n",
       "      <th>21</th>\n",
       "      <td>JAMMU   KASHMIR</td>\n",
       "      <td>1185.0</td>\n",
       "    </tr>\n",
       "    <tr>\n",
       "      <th>22</th>\n",
       "      <td>NAGALAND</td>\n",
       "      <td>1185.0</td>\n",
       "    </tr>\n",
       "    <tr>\n",
       "      <th>23</th>\n",
       "      <td>PUDUCHERRY</td>\n",
       "      <td>900.0</td>\n",
       "    </tr>\n",
       "    <tr>\n",
       "      <th>24</th>\n",
       "      <td>GOA</td>\n",
       "      <td>129.0</td>\n",
       "    </tr>\n",
       "    <tr>\n",
       "      <th>25</th>\n",
       "      <td>MEGHALAYA</td>\n",
       "      <td>125.0</td>\n",
       "    </tr>\n",
       "  </tbody>\n",
       "</table>\n",
       "</div>"
      ],
      "text/plain": [
       "       Ship To State  Invoice Amount\n",
       "0          KARNATAKA        303303.0\n",
       "1        MAHARASHTRA        104102.0\n",
       "2          TELANGANA         96998.0\n",
       "3      UTTAR PRADESH         66554.0\n",
       "4              DELHI         54340.0\n",
       "5         TAMIL NADU         49479.0\n",
       "6     ANDHRA PRADESH         43698.0\n",
       "7        WEST BENGAL         42609.0\n",
       "8            HARYANA         37615.0\n",
       "9             KERALA         29409.0\n",
       "10           GUJARAT         25862.0\n",
       "11         RAJASTHAN         11578.0\n",
       "12             ASSAM          7401.0\n",
       "13    MADHYA PRADESH          7110.0\n",
       "14           TRIPURA          3555.0\n",
       "15            PUNJAB          2499.0\n",
       "16       UTTARAKHAND          2298.0\n",
       "17            ODISHA          2285.0\n",
       "18        CHANDIGARH          1995.0\n",
       "19             BIHAR          1385.0\n",
       "20  HIMACHAL PRADESH          1185.0\n",
       "21   JAMMU   KASHMIR          1185.0\n",
       "22          NAGALAND          1185.0\n",
       "23        PUDUCHERRY           900.0\n",
       "24               GOA           129.0\n",
       "25         MEGHALAYA           125.0"
      ]
     },
     "execution_count": 12,
     "metadata": {},
     "output_type": "execute_result"
    }
   ],
   "source": [
    "state_wise_revenue = total.groupby('Ship To State')['Invoice Amount'].sum().sort_values(ascending = False).reset_index()\n",
    "state_wise_revenue"
   ]
  },
  {
   "cell_type": "code",
   "execution_count": 30,
   "metadata": {
    "scrolled": false
   },
   "outputs": [
    {
     "data": {
      "text/plain": [
       "[Text(0, 0, 'KARNATAKA'),\n",
       " Text(0, 0, 'MAHARASHTRA'),\n",
       " Text(0, 0, 'TELANGANA'),\n",
       " Text(0, 0, 'UTTAR PRADESH'),\n",
       " Text(0, 0, 'DELHI'),\n",
       " Text(0, 0, 'TAMIL NADU'),\n",
       " Text(0, 0, 'ANDHRA PRADESH'),\n",
       " Text(0, 0, 'WEST BENGAL'),\n",
       " Text(0, 0, 'HARYANA'),\n",
       " Text(0, 0, 'KERALA'),\n",
       " Text(0, 0, 'GUJARAT'),\n",
       " Text(0, 0, 'RAJASTHAN'),\n",
       " Text(0, 0, 'ASSAM'),\n",
       " Text(0, 0, 'MADHYA PRADESH'),\n",
       " Text(0, 0, 'TRIPURA'),\n",
       " Text(0, 0, 'PUNJAB'),\n",
       " Text(0, 0, 'UTTARAKHAND'),\n",
       " Text(0, 0, 'ODISHA'),\n",
       " Text(0, 0, 'CHANDIGARH'),\n",
       " Text(0, 0, 'BIHAR'),\n",
       " Text(0, 0, 'HIMACHAL PRADESH'),\n",
       " Text(0, 0, 'JAMMU   KASHMIR'),\n",
       " Text(0, 0, 'NAGALAND'),\n",
       " Text(0, 0, 'PUDUCHERRY'),\n",
       " Text(0, 0, 'GOA'),\n",
       " Text(0, 0, 'MEGHALAYA')]"
      ]
     },
     "execution_count": 30,
     "metadata": {},
     "output_type": "execute_result"
    },
    {
     "data": {
      "image/png": "[encoded data removed]",
      "text/plain": [
       "<Figure size 720x720 with 1 Axes>"
      ]
     },
     "metadata": {
      "needs_background": "light"
     },
     "output_type": "display_data"
    }
   ],
   "source": [
    "\n",
    "plt.figure(figsize=(10, 10))\n",
    "\n",
    "plt.title('Sales per State- June 2020')\n",
    "chart1 = sns.barplot(x='Ship To State', y ='Invoice Amount', data = state_wise_revenue)\n",
    "chart1.set_xticklabels(chart1.get_xticklabels(), rotation=90)"
   ]
  },
  {
   "cell_type": "markdown",
   "metadata": {},
   "source": [
    "# Total Revenue Per Product"
   ]
  },
  {
   "cell_type": "code",
   "execution_count": 33,
   "metadata": {},
   "outputs": [
    {
     "data": {
      "text/plain": [
       "Sku\n",
       "201                          337725.0\n",
       "New 103                      250165.0\n",
       "OK H0DX 9N0N                  82445.0\n",
       "Car_Dash_Camera               62580.0\n",
       "5A YB7Z ZFXP                  31995.0\n",
       "New 103_1                     30582.0\n",
       "104_Single                    25485.0\n",
       "109                           22485.0\n",
       "RW 0JGB G59A                  10978.0\n",
       "New_901                       10693.0\n",
       "901                            7595.0\n",
       "106                            7095.0\n",
       "105                            4792.0\n",
       "109_Cartridge                  4792.0\n",
       "New 103 A                      1995.0\n",
       "New 104                        1891.0\n",
       "601_wood                       1497.0\n",
       "Washing_Machine_Filter         1395.0\n",
       "401                            1349.0\n",
       "107                            1250.0\n",
       "Washing_Machine_Cartridge         0.0\n",
       "Name: Invoice Amount, dtype: float64"
      ]
     },
     "execution_count": 33,
     "metadata": {},
     "output_type": "execute_result"
    }
   ],
   "source": [
    "\n",
    "\n",
    "product_wise_revenue = total.groupby('Sku')['Invoice Amount'].sum().sort_values(ascending = False)\n",
    "product_wise_revenue"
   ]
  },
  {
   "cell_type": "code",
   "execution_count": 34,
   "metadata": {
    "scrolled": false
   },
   "outputs": [
    {
     "data": {
      "text/plain": [
       "[Text(0, 0, '201'),\n",
       " Text(0, 0, 'New 103'),\n",
       " Text(0, 0, 'OK H0DX 9N0N'),\n",
       " Text(0, 0, 'Car_Dash_Camera'),\n",
       " Text(0, 0, '5A YB7Z ZFXP'),\n",
       " Text(0, 0, 'New 103_1'),\n",
       " Text(0, 0, '104_Single'),\n",
       " Text(0, 0, '109'),\n",
       " Text(0, 0, 'RW 0JGB G59A'),\n",
       " Text(0, 0, 'New_901'),\n",
       " Text(0, 0, '901'),\n",
       " Text(0, 0, '106'),\n",
       " Text(0, 0, '105'),\n",
       " Text(0, 0, '109_Cartridge'),\n",
       " Text(0, 0, 'New 103 A'),\n",
       " Text(0, 0, 'New 104'),\n",
       " Text(0, 0, '601_wood'),\n",
       " Text(0, 0, 'Washing_Machine_Filter'),\n",
       " Text(0, 0, '401'),\n",
       " Text(0, 0, '107'),\n",
       " Text(0, 0, 'Washing_Machine_Cartridge')]"
      ]
     },
     "execution_count": 34,
     "metadata": {},
     "output_type": "execute_result"
    },
    {
     "data": {
      "image/png": "[encoded data removed]",
      "text/plain": [
       "<Figure size 720x720 with 1 Axes>"
      ]
     },
     "metadata": {
      "needs_background": "light"
     },
     "output_type": "display_data"
    }
   ],
   "source": [
    "plt.figure(figsize=(10, 10))\n",
    "\n",
    "plt.title('Sales per Product- June 2020')\n",
    "\n",
    "chart2 = sns.barplot(x='Sku', y ='Invoice Amount', data = product_wise_revenue.reset_index(),palette= 'Set1')\n",
    "chart2.set_xticklabels(chart2.get_xticklabels(), rotation=90)"
   ]
  },
  {
   "cell_type": "code",
   "execution_count": 16,
   "metadata": {},
   "outputs": [],
   "source": [
    "# Maximum Revenue From Which Warehouse, Witht out Tax"
   ]
  },
  {
   "cell_type": "code",
   "execution_count": 35,
   "metadata": {},
   "outputs": [
    {
     "data": {
      "text/plain": [
       "Seller Gstin\n",
       "29CJVPA2317N1ZQ    252019.05\n",
       "32CJVPA2317N1Z3    205549.48\n",
       "07CJVPA2317N1ZW    153234.15\n",
       "27CJVPA2317N1ZU     94184.11\n",
       "36CJVPA2317N1ZV     56655.20\n",
       "Name: Tax Exclusive Gross, dtype: float64"
      ]
     },
     "execution_count": 35,
     "metadata": {},
     "output_type": "execute_result"
    }
   ],
   "source": [
    "gst_wise_data = total.groupby('Seller Gstin')['Tax Exclusive Gross'].sum().sort_values(ascending=False)\n",
    "gst_wise_data"
   ]
  },
  {
   "cell_type": "code",
   "execution_count": 39,
   "metadata": {
    "scrolled": false
   },
   "outputs": [
    {
     "data": {
      "text/plain": [
       "[Text(0, 0, '29CJVPA2317N1ZQ'),\n",
       " Text(0, 0, '32CJVPA2317N1Z3'),\n",
       " Text(0, 0, '07CJVPA2317N1ZW'),\n",
       " Text(0, 0, '27CJVPA2317N1ZU'),\n",
       " Text(0, 0, '36CJVPA2317N1ZV')]"
      ]
     },
     "execution_count": 39,
     "metadata": {},
     "output_type": "execute_result"
    },
    {
     "data": {
      "image/png": "[encoded data removed]",
      "text/plain": [
       "<Figure size 720x720 with 1 Axes>"
      ]
     },
     "metadata": {
      "needs_background": "light"
     },
     "output_type": "display_data"
    }
   ],
   "source": [
    "plt.figure(figsize=(10, 10))\n",
    "\n",
    "plt.title('Sales per GST(warehouse)- June 2020')\n",
    "\n",
    "chart4 = sns.barplot(x='Seller Gstin', y= 'Tax Exclusive Gross', data= gst_wise_data.reset_index())\n",
    "chart4.set_xticklabels(chart4.get_xticklabels(), rotation=90)"
   ]
  },
  {
   "cell_type": "markdown",
   "metadata": {},
   "source": [
    "# Total Tax per GST Number"
   ]
  },
  {
   "cell_type": "code",
   "execution_count": 38,
   "metadata": {
    "scrolled": true
   },
   "outputs": [
    {
     "data": {
      "text/plain": [
       "Seller Gstin\n",
       "29CJVPA2317N1ZQ    45362.95\n",
       "32CJVPA2317N1Z3    37046.52\n",
       "07CJVPA2317N1ZW    27581.85\n",
       "27CJVPA2317N1ZU    16952.89\n",
       "36CJVPA2317N1ZV    10197.80\n",
       "Name: Total Tax Amount, dtype: float64"
      ]
     },
     "execution_count": 38,
     "metadata": {},
     "output_type": "execute_result"
    }
   ],
   "source": [
    "\n",
    "tax_per_gst = total.groupby('Seller Gstin')['Total Tax Amount'].sum().sort_values(ascending=False)\n",
    "tax_per_gst"
   ]
  },
  {
   "cell_type": "markdown",
   "metadata": {},
   "source": [
    "# Total Revenue per Transaction Type"
   ]
  },
  {
   "cell_type": "code",
   "execution_count": 20,
   "metadata": {
    "scrolled": true
   },
   "outputs": [
    {
     "data": {
      "text/plain": [
       "Transaction Type\n",
       "Cancel              0.0\n",
       "MFNShipment    231727.0\n",
       "Refund        -124657.0\n",
       "Shipment       791714.0\n",
       "Name: Invoice Amount, dtype: float64"
      ]
     },
     "execution_count": 20,
     "metadata": {},
     "output_type": "execute_result"
    }
   ],
   "source": [
    "\n",
    "revenue_order_type= total.groupby('Transaction Type')['Invoice Amount'].sum()\n",
    "revenue_order_type"
   ]
  },
  {
   "cell_type": "markdown",
   "metadata": {},
   "source": [
    "#### This is How it looks after GroupBy()-Not exactly, as the inside data wil also expand"
   ]
  },
  {
   "cell_type": "code",
   "execution_count": 21,
   "metadata": {
    "scrolled": false
   },
   "outputs": [
    {
     "data": {
      "text/html": [
       "<div>\n",
       "<style scoped>\n",
       "    .dataframe tbody tr th:only-of-type {\n",
       "        vertical-align: middle;\n",
       "    }\n",
       "\n",
       "    .dataframe tbody tr th {\n",
       "        vertical-align: top;\n",
       "    }\n",
       "\n",
       "    .dataframe thead th {\n",
       "        text-align: right;\n",
       "    }\n",
       "</style>\n",
       "<table border=\"1\" class=\"dataframe\">\n",
       "  <thead>\n",
       "    <tr style=\"text-align: right;\">\n",
       "      <th></th>\n",
       "      <th>Seller Gstin</th>\n",
       "      <th>Invoice Number</th>\n",
       "      <th>Invoice Date</th>\n",
       "      <th>Order Id</th>\n",
       "      <th>Shipment Date</th>\n",
       "      <th>Order Date</th>\n",
       "      <th>Quantity</th>\n",
       "      <th>Item Description</th>\n",
       "      <th>Asin</th>\n",
       "      <th>Sku</th>\n",
       "      <th>Ship From State</th>\n",
       "      <th>Ship To City</th>\n",
       "      <th>Ship To State</th>\n",
       "      <th>Ship To Postal Code</th>\n",
       "      <th>Invoice Amount</th>\n",
       "      <th>Tax Exclusive Gross</th>\n",
       "      <th>Total Tax Amount</th>\n",
       "    </tr>\n",
       "    <tr>\n",
       "      <th>Transaction Type</th>\n",
       "      <th></th>\n",
       "      <th></th>\n",
       "      <th></th>\n",
       "      <th></th>\n",
       "      <th></th>\n",
       "      <th></th>\n",
       "      <th></th>\n",
       "      <th></th>\n",
       "      <th></th>\n",
       "      <th></th>\n",
       "      <th></th>\n",
       "      <th></th>\n",
       "      <th></th>\n",
       "      <th></th>\n",
       "      <th></th>\n",
       "      <th></th>\n",
       "      <th></th>\n",
       "    </tr>\n",
       "  </thead>\n",
       "  <tbody>\n",
       "    <tr>\n",
       "      <th>Cancel</th>\n",
       "      <td>45</td>\n",
       "      <td>45</td>\n",
       "      <td>45</td>\n",
       "      <td>45</td>\n",
       "      <td>0</td>\n",
       "      <td>0</td>\n",
       "      <td>45</td>\n",
       "      <td>0</td>\n",
       "      <td>45</td>\n",
       "      <td>0</td>\n",
       "      <td>45</td>\n",
       "      <td>45</td>\n",
       "      <td>45</td>\n",
       "      <td>45</td>\n",
       "      <td>0</td>\n",
       "      <td>0</td>\n",
       "      <td>45</td>\n",
       "    </tr>\n",
       "    <tr>\n",
       "      <th>MFNShipment</th>\n",
       "      <td>246</td>\n",
       "      <td>246</td>\n",
       "      <td>246</td>\n",
       "      <td>246</td>\n",
       "      <td>246</td>\n",
       "      <td>246</td>\n",
       "      <td>246</td>\n",
       "      <td>246</td>\n",
       "      <td>246</td>\n",
       "      <td>246</td>\n",
       "      <td>246</td>\n",
       "      <td>246</td>\n",
       "      <td>246</td>\n",
       "      <td>246</td>\n",
       "      <td>246</td>\n",
       "      <td>246</td>\n",
       "      <td>246</td>\n",
       "    </tr>\n",
       "    <tr>\n",
       "      <th>Refund</th>\n",
       "      <td>90</td>\n",
       "      <td>90</td>\n",
       "      <td>90</td>\n",
       "      <td>90</td>\n",
       "      <td>90</td>\n",
       "      <td>90</td>\n",
       "      <td>90</td>\n",
       "      <td>90</td>\n",
       "      <td>90</td>\n",
       "      <td>90</td>\n",
       "      <td>90</td>\n",
       "      <td>90</td>\n",
       "      <td>90</td>\n",
       "      <td>90</td>\n",
       "      <td>90</td>\n",
       "      <td>90</td>\n",
       "      <td>90</td>\n",
       "    </tr>\n",
       "    <tr>\n",
       "      <th>Shipment</th>\n",
       "      <td>509</td>\n",
       "      <td>509</td>\n",
       "      <td>509</td>\n",
       "      <td>509</td>\n",
       "      <td>509</td>\n",
       "      <td>509</td>\n",
       "      <td>509</td>\n",
       "      <td>509</td>\n",
       "      <td>509</td>\n",
       "      <td>509</td>\n",
       "      <td>509</td>\n",
       "      <td>509</td>\n",
       "      <td>509</td>\n",
       "      <td>509</td>\n",
       "      <td>509</td>\n",
       "      <td>509</td>\n",
       "      <td>509</td>\n",
       "    </tr>\n",
       "  </tbody>\n",
       "</table>\n",
       "</div>"
      ],
      "text/plain": [
       "                  Seller Gstin  Invoice Number  Invoice Date  Order Id  \\\n",
       "Transaction Type                                                         \n",
       "Cancel                      45              45            45        45   \n",
       "MFNShipment                246             246           246       246   \n",
       "Refund                      90              90            90        90   \n",
       "Shipment                   509             509           509       509   \n",
       "\n",
       "                  Shipment Date  Order Date  Quantity  Item Description  Asin  \\\n",
       "Transaction Type                                                                \n",
       "Cancel                        0           0        45                 0    45   \n",
       "MFNShipment                 246         246       246               246   246   \n",
       "Refund                       90          90        90                90    90   \n",
       "Shipment                    509         509       509               509   509   \n",
       "\n",
       "                  Sku  Ship From State  Ship To City  Ship To State  \\\n",
       "Transaction Type                                                      \n",
       "Cancel              0               45            45             45   \n",
       "MFNShipment       246              246           246            246   \n",
       "Refund             90               90            90             90   \n",
       "Shipment          509              509           509            509   \n",
       "\n",
       "                  Ship To Postal Code  Invoice Amount  Tax Exclusive Gross  \\\n",
       "Transaction Type                                                             \n",
       "Cancel                             45               0                    0   \n",
       "MFNShipment                       246             246                  246   \n",
       "Refund                             90              90                   90   \n",
       "Shipment                          509             509                  509   \n",
       "\n",
       "                  Total Tax Amount  \n",
       "Transaction Type                    \n",
       "Cancel                          45  \n",
       "MFNShipment                    246  \n",
       "Refund                          90  \n",
       "Shipment                       509  "
      ]
     },
     "execution_count": 21,
     "metadata": {},
     "output_type": "execute_result"
    }
   ],
   "source": [
    "total.groupby('Transaction Type').count()"
   ]
  },
  {
   "cell_type": "markdown",
   "metadata": {},
   "source": [
    "# Highest Refunded Product"
   ]
  },
  {
   "cell_type": "code",
   "execution_count": 22,
   "metadata": {
    "scrolled": true
   },
   "outputs": [
    {
     "data": {
      "text/plain": [
       "Sku\n",
       "201                         -37920.0\n",
       "New 103                     -36705.0\n",
       "109                         -11992.0\n",
       "OK H0DX 9N0N                 -7495.0\n",
       "Car_Dash_Camera              -6198.0\n",
       "104_Single                   -5097.0\n",
       "109_Cartridge                -4193.0\n",
       "Washing_Machine_Filter       -2790.0\n",
       "401                          -2698.0\n",
       "New 104                      -2099.0\n",
       "New 103_1                    -1699.0\n",
       "New_901                      -1599.0\n",
       "5A YB7Z ZFXP                 -1185.0\n",
       "RW 0JGB G59A                  -998.0\n",
       "105                           -599.0\n",
       "106                           -516.0\n",
       "Washing_Machine_Cartridge     -499.0\n",
       "107                           -375.0\n",
       "Name: Invoice Amount, dtype: float64"
      ]
     },
     "execution_count": 22,
     "metadata": {},
     "output_type": "execute_result"
    }
   ],
   "source": [
    "refund = total.groupby('Transaction Type').get_group('Refund')\n",
    "refund.groupby('Sku')['Invoice Amount'].sum().sort_values()"
   ]
  },
  {
   "cell_type": "markdown",
   "metadata": {},
   "source": [
    "# Products From Different Order Types"
   ]
  },
  {
   "cell_type": "code",
   "execution_count": 23,
   "metadata": {
    "scrolled": false
   },
   "outputs": [
    {
     "data": {
      "text/plain": [
       "Transaction Type  Sku                      \n",
       "Refund            201                          -37920.0\n",
       "                  New 103                      -36705.0\n",
       "                  109                          -11992.0\n",
       "                  OK H0DX 9N0N                  -7495.0\n",
       "                  Car_Dash_Camera               -6198.0\n",
       "                  104_Single                    -5097.0\n",
       "                  109_Cartridge                 -4193.0\n",
       "                  Washing_Machine_Filter        -2790.0\n",
       "                  401                           -2698.0\n",
       "                  New 104                       -2099.0\n",
       "                  New 103_1                     -1699.0\n",
       "                  New_901                       -1599.0\n",
       "                  5A YB7Z ZFXP                  -1185.0\n",
       "                  RW 0JGB G59A                   -998.0\n",
       "                  105                            -599.0\n",
       "                  106                            -516.0\n",
       "                  Washing_Machine_Cartridge      -499.0\n",
       "                  107                            -375.0\n",
       "MFNShipment       Washing_Machine_Cartridge       499.0\n",
       "                  601_wood                       1497.0\n",
       "Shipment          901                            1599.0\n",
       "MFNShipment       107                            1625.0\n",
       "                  New 103 A                      1995.0\n",
       "                  New 104                        3990.0\n",
       "Shipment          401                            4047.0\n",
       "MFNShipment       Washing_Machine_Filter         4185.0\n",
       "                  105                            5391.0\n",
       "                  901                            5996.0\n",
       "                  106                            7611.0\n",
       "                  109_Cartridge                  8985.0\n",
       "                  RW 0JGB G59A                  11976.0\n",
       "                  New_901                       12292.0\n",
       "                  OK H0DX 9N0N                  13491.0\n",
       "                  109                           13491.0\n",
       "Shipment          109                           20986.0\n",
       "MFNShipment       104_Single                    30582.0\n",
       "                  New 103_1                     32281.0\n",
       "                  5A YB7Z ZFXP                  33180.0\n",
       "                  201                           42660.0\n",
       "Shipment          Car_Dash_Camera               68778.0\n",
       "                  OK H0DX 9N0N                  76449.0\n",
       "                  New 103                      286870.0\n",
       "                  201                          332985.0\n",
       "Name: Invoice Amount, dtype: float64"
      ]
     },
     "execution_count": 23,
     "metadata": {},
     "output_type": "execute_result"
    }
   ],
   "source": [
    "order_type_with_sku = total.groupby(['Transaction Type','Sku'])\n",
    "order_type_with_sku['Invoice Amount'].sum().sort_values()"
   ]
  },
  {
   "cell_type": "markdown",
   "metadata": {},
   "source": [
    "# Heat Map - On Purchase Time  (Df = Total)"
   ]
  },
  {
   "cell_type": "code",
   "execution_count": 24,
   "metadata": {},
   "outputs": [],
   "source": [
    "df['Order Date']=pd.to_datetime(df['Order Date'])"
   ]
  },
  {
   "cell_type": "code",
   "execution_count": 25,
   "metadata": {},
   "outputs": [],
   "source": [
    "df['Hour']= df['Order Date'].apply(lambda time: time.hour )\n",
    "\n",
    "df['Date'] = df['Order Date'].apply(lambda time : time.date())\n",
    "\n",
    "df['Day']= df['Order Date'].apply(lambda time: time.day )\n",
    "\n",
    "dmap = {0:'Mon',1:'Tue',2:'Wed',3:'Thu',4:'Fri',5:'Sat',6:'Sun'}\n",
    "df['Day of Week']= df['Order Date'].apply(lambda time: time.dayofweek )\n",
    "df['Day of Week']= df['Day of Week'].map(dmap)"
   ]
  },
  {
   "cell_type": "code",
   "execution_count": 40,
   "metadata": {
    "scrolled": true
   },
   "outputs": [
    {
     "data": {
      "text/html": [
       "<div>\n",
       "<style scoped>\n",
       "    .dataframe tbody tr th:only-of-type {\n",
       "        vertical-align: middle;\n",
       "    }\n",
       "\n",
       "    .dataframe tbody tr th {\n",
       "        vertical-align: top;\n",
       "    }\n",
       "\n",
       "    .dataframe thead th {\n",
       "        text-align: right;\n",
       "    }\n",
       "</style>\n",
       "<table border=\"1\" class=\"dataframe\">\n",
       "  <thead>\n",
       "    <tr style=\"text-align: right;\">\n",
       "      <th>Hour</th>\n",
       "      <th>0.0</th>\n",
       "      <th>1.0</th>\n",
       "      <th>2.0</th>\n",
       "      <th>3.0</th>\n",
       "      <th>4.0</th>\n",
       "      <th>5.0</th>\n",
       "      <th>6.0</th>\n",
       "      <th>7.0</th>\n",
       "      <th>8.0</th>\n",
       "      <th>9.0</th>\n",
       "      <th>...</th>\n",
       "      <th>14.0</th>\n",
       "      <th>15.0</th>\n",
       "      <th>16.0</th>\n",
       "      <th>17.0</th>\n",
       "      <th>18.0</th>\n",
       "      <th>19.0</th>\n",
       "      <th>20.0</th>\n",
       "      <th>21.0</th>\n",
       "      <th>22.0</th>\n",
       "      <th>23.0</th>\n",
       "    </tr>\n",
       "    <tr>\n",
       "      <th>Day of Week</th>\n",
       "      <th></th>\n",
       "      <th></th>\n",
       "      <th></th>\n",
       "      <th></th>\n",
       "      <th></th>\n",
       "      <th></th>\n",
       "      <th></th>\n",
       "      <th></th>\n",
       "      <th></th>\n",
       "      <th></th>\n",
       "      <th></th>\n",
       "      <th></th>\n",
       "      <th></th>\n",
       "      <th></th>\n",
       "      <th></th>\n",
       "      <th></th>\n",
       "      <th></th>\n",
       "      <th></th>\n",
       "      <th></th>\n",
       "      <th></th>\n",
       "      <th></th>\n",
       "    </tr>\n",
       "  </thead>\n",
       "  <tbody>\n",
       "    <tr>\n",
       "      <th>Fri</th>\n",
       "      <td>4.0</td>\n",
       "      <td>1.0</td>\n",
       "      <td>2.0</td>\n",
       "      <td>0.0</td>\n",
       "      <td>1.0</td>\n",
       "      <td>0.0</td>\n",
       "      <td>1.0</td>\n",
       "      <td>1.0</td>\n",
       "      <td>7.0</td>\n",
       "      <td>8.0</td>\n",
       "      <td>...</td>\n",
       "      <td>2.0</td>\n",
       "      <td>13.0</td>\n",
       "      <td>8.0</td>\n",
       "      <td>6.0</td>\n",
       "      <td>3.0</td>\n",
       "      <td>2.0</td>\n",
       "      <td>5.0</td>\n",
       "      <td>3.0</td>\n",
       "      <td>5.0</td>\n",
       "      <td>5.0</td>\n",
       "    </tr>\n",
       "    <tr>\n",
       "      <th>Mon</th>\n",
       "      <td>3.0</td>\n",
       "      <td>4.0</td>\n",
       "      <td>1.0</td>\n",
       "      <td>1.0</td>\n",
       "      <td>0.0</td>\n",
       "      <td>1.0</td>\n",
       "      <td>1.0</td>\n",
       "      <td>2.0</td>\n",
       "      <td>3.0</td>\n",
       "      <td>13.0</td>\n",
       "      <td>...</td>\n",
       "      <td>7.0</td>\n",
       "      <td>2.0</td>\n",
       "      <td>5.0</td>\n",
       "      <td>6.0</td>\n",
       "      <td>7.0</td>\n",
       "      <td>10.0</td>\n",
       "      <td>8.0</td>\n",
       "      <td>9.0</td>\n",
       "      <td>5.0</td>\n",
       "      <td>8.0</td>\n",
       "    </tr>\n",
       "    <tr>\n",
       "      <th>Sat</th>\n",
       "      <td>9.0</td>\n",
       "      <td>2.0</td>\n",
       "      <td>0.0</td>\n",
       "      <td>0.0</td>\n",
       "      <td>1.0</td>\n",
       "      <td>0.0</td>\n",
       "      <td>3.0</td>\n",
       "      <td>4.0</td>\n",
       "      <td>3.0</td>\n",
       "      <td>4.0</td>\n",
       "      <td>...</td>\n",
       "      <td>8.0</td>\n",
       "      <td>9.0</td>\n",
       "      <td>6.0</td>\n",
       "      <td>13.0</td>\n",
       "      <td>13.0</td>\n",
       "      <td>9.0</td>\n",
       "      <td>12.0</td>\n",
       "      <td>7.0</td>\n",
       "      <td>5.0</td>\n",
       "      <td>5.0</td>\n",
       "    </tr>\n",
       "    <tr>\n",
       "      <th>Sun</th>\n",
       "      <td>0.0</td>\n",
       "      <td>2.0</td>\n",
       "      <td>5.0</td>\n",
       "      <td>1.0</td>\n",
       "      <td>1.0</td>\n",
       "      <td>2.0</td>\n",
       "      <td>0.0</td>\n",
       "      <td>0.0</td>\n",
       "      <td>1.0</td>\n",
       "      <td>10.0</td>\n",
       "      <td>...</td>\n",
       "      <td>7.0</td>\n",
       "      <td>5.0</td>\n",
       "      <td>6.0</td>\n",
       "      <td>10.0</td>\n",
       "      <td>7.0</td>\n",
       "      <td>9.0</td>\n",
       "      <td>7.0</td>\n",
       "      <td>8.0</td>\n",
       "      <td>2.0</td>\n",
       "      <td>8.0</td>\n",
       "    </tr>\n",
       "    <tr>\n",
       "      <th>Thu</th>\n",
       "      <td>4.0</td>\n",
       "      <td>0.0</td>\n",
       "      <td>6.0</td>\n",
       "      <td>0.0</td>\n",
       "      <td>0.0</td>\n",
       "      <td>1.0</td>\n",
       "      <td>0.0</td>\n",
       "      <td>2.0</td>\n",
       "      <td>6.0</td>\n",
       "      <td>0.0</td>\n",
       "      <td>...</td>\n",
       "      <td>6.0</td>\n",
       "      <td>9.0</td>\n",
       "      <td>7.0</td>\n",
       "      <td>5.0</td>\n",
       "      <td>10.0</td>\n",
       "      <td>6.0</td>\n",
       "      <td>6.0</td>\n",
       "      <td>2.0</td>\n",
       "      <td>5.0</td>\n",
       "      <td>5.0</td>\n",
       "    </tr>\n",
       "    <tr>\n",
       "      <th>Tue</th>\n",
       "      <td>6.0</td>\n",
       "      <td>5.0</td>\n",
       "      <td>0.0</td>\n",
       "      <td>2.0</td>\n",
       "      <td>0.0</td>\n",
       "      <td>0.0</td>\n",
       "      <td>1.0</td>\n",
       "      <td>1.0</td>\n",
       "      <td>5.0</td>\n",
       "      <td>4.0</td>\n",
       "      <td>...</td>\n",
       "      <td>6.0</td>\n",
       "      <td>4.0</td>\n",
       "      <td>6.0</td>\n",
       "      <td>8.0</td>\n",
       "      <td>6.0</td>\n",
       "      <td>10.0</td>\n",
       "      <td>9.0</td>\n",
       "      <td>10.0</td>\n",
       "      <td>8.0</td>\n",
       "      <td>7.0</td>\n",
       "    </tr>\n",
       "    <tr>\n",
       "      <th>Wed</th>\n",
       "      <td>2.0</td>\n",
       "      <td>4.0</td>\n",
       "      <td>3.0</td>\n",
       "      <td>1.0</td>\n",
       "      <td>0.0</td>\n",
       "      <td>0.0</td>\n",
       "      <td>0.0</td>\n",
       "      <td>3.0</td>\n",
       "      <td>5.0</td>\n",
       "      <td>9.0</td>\n",
       "      <td>...</td>\n",
       "      <td>4.0</td>\n",
       "      <td>2.0</td>\n",
       "      <td>6.0</td>\n",
       "      <td>5.0</td>\n",
       "      <td>2.0</td>\n",
       "      <td>7.0</td>\n",
       "      <td>3.0</td>\n",
       "      <td>5.0</td>\n",
       "      <td>4.0</td>\n",
       "      <td>5.0</td>\n",
       "    </tr>\n",
       "  </tbody>\n",
       "</table>\n",
       "<p>7 rows × 24 columns</p>\n",
       "</div>"
      ],
      "text/plain": [
       "Hour         0.0   1.0   2.0   3.0   4.0   5.0   6.0   7.0   8.0   9.0   ...  \\\n",
       "Day of Week                                                              ...   \n",
       "Fri           4.0   1.0   2.0   0.0   1.0   0.0   1.0   1.0   7.0   8.0  ...   \n",
       "Mon           3.0   4.0   1.0   1.0   0.0   1.0   1.0   2.0   3.0  13.0  ...   \n",
       "Sat           9.0   2.0   0.0   0.0   1.0   0.0   3.0   4.0   3.0   4.0  ...   \n",
       "Sun           0.0   2.0   5.0   1.0   1.0   2.0   0.0   0.0   1.0  10.0  ...   \n",
       "Thu           4.0   0.0   6.0   0.0   0.0   1.0   0.0   2.0   6.0   0.0  ...   \n",
       "Tue           6.0   5.0   0.0   2.0   0.0   0.0   1.0   1.0   5.0   4.0  ...   \n",
       "Wed           2.0   4.0   3.0   1.0   0.0   0.0   0.0   3.0   5.0   9.0  ...   \n",
       "\n",
       "Hour         14.0  15.0  16.0  17.0  18.0  19.0  20.0  21.0  22.0  23.0  \n",
       "Day of Week                                                              \n",
       "Fri           2.0  13.0   8.0   6.0   3.0   2.0   5.0   3.0   5.0   5.0  \n",
       "Mon           7.0   2.0   5.0   6.0   7.0  10.0   8.0   9.0   5.0   8.0  \n",
       "Sat           8.0   9.0   6.0  13.0  13.0   9.0  12.0   7.0   5.0   5.0  \n",
       "Sun           7.0   5.0   6.0  10.0   7.0   9.0   7.0   8.0   2.0   8.0  \n",
       "Thu           6.0   9.0   7.0   5.0  10.0   6.0   6.0   2.0   5.0   5.0  \n",
       "Tue           6.0   4.0   6.0   8.0   6.0  10.0   9.0  10.0   8.0   7.0  \n",
       "Wed           4.0   2.0   6.0   5.0   2.0   7.0   3.0   5.0   4.0   5.0  \n",
       "\n",
       "[7 rows x 24 columns]"
      ]
     },
     "execution_count": 40,
     "metadata": {},
     "output_type": "execute_result"
    }
   ],
   "source": [
    "Day_Hour = df.groupby(['Day of Week','Hour']).count()['Order Id'].unstack()\n",
    "Day_Hour.fillna(0,inplace =True)\n",
    "Day_Hour"
   ]
  },
  {
   "cell_type": "markdown",
   "metadata": {},
   "source": [
    "# Number of orders per Hour"
   ]
  },
  {
   "cell_type": "code",
   "execution_count": 27,
   "metadata": {},
   "outputs": [
    {
     "data": {
      "image/png": "[encoded data removed]",
      "text/plain": [
       "<Figure size 864x576 with 2 Axes>"
      ]
     },
     "metadata": {
      "needs_background": "light"
     },
     "output_type": "display_data"
    },
    {
     "data": {
      "image/png": "[encoded data removed]",
      "text/plain": [
       "<Figure size 720x720 with 4 Axes>"
      ]
     },
     "metadata": {
      "needs_background": "light"
     },
     "output_type": "display_data"
    }
   ],
   "source": [
    "plt.figure(figsize=(12,8))\n",
    "sns.heatmap(Day_Hour, cmap='coolwarm',linewidths=1,annot=True)\n",
    "sns.clustermap(Day_Hour, cmap='coolwarm',linewidths=1,annot=True)\n",
    "plt.tight_layout()"
   ]
  },
  {
   "cell_type": "code",
   "execution_count": null,
   "metadata": {},
   "outputs": [],
   "source": []
  },
  {
   "cell_type": "code",
   "execution_count": null,
   "metadata": {},
   "outputs": [],
   "source": []
  },
  {
   "cell_type": "code",
   "execution_count": null,
   "metadata": {},
   "outputs": [],
   "source": []
  }
 ],
 "metadata": {
  "kernelspec": {
   "display_name": "Python 3",
   "language": "python",
   "name": "python3"
  },
  "language_info": {
   "codemirror_mode": {
    "name": "ipython",
    "version": 3
   },
   "file_extension": ".py",
   "mimetype": "text/x-python",
   "name": "python",
   "nbconvert_exporter": "python",
   "pygments_lexer": "ipython3",
   "version": "3.8.2"
  }
 },
 "nbformat": 4,
 "nbformat_minor": 4
}
